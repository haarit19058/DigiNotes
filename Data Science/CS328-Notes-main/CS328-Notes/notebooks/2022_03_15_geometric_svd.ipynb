{
 "cells": [
  {
   "cell_type": "markdown",
   "metadata": {},
   "source": [
    "# Applications of SVD \n"
   ]
  },
  {
   "cell_type": "markdown",
   "metadata": {
    "id": "X-7STl74mIMC"
   },
   "source": [
    "**Implementation of SVD**"
   ]
  },
  {
   "cell_type": "markdown",
   "metadata": {
    "id": "1h3LKbH2mIPE"
   },
   "source": []
  },
  {
   "cell_type": "code",
   "execution_count": 21,
   "metadata": {
    "colab": {
     "base_uri": "https://localhost:8080/"
    },
    "id": "JKIS98ismWX-",
    "outputId": "e5c9b98b-1696-4e41-c4d8-ee7d47141b61"
   },
   "outputs": [
    {
     "data": {
      "text/plain": [
       "(array([[-0.69366543,  0.59343205, -0.40824829],\n",
       "        [-0.4427092 , -0.79833696, -0.40824829],\n",
       "        [-0.56818732, -0.10245245,  0.81649658]]),\n",
       " array([10.25142677,  2.62835484]),\n",
       " array([[-0.88033817, -0.47434662],\n",
       "        [ 0.47434662, -0.88033817]]))"
      ]
     },
     "execution_count": 21,
     "metadata": {},
     "output_type": "execute_result"
    }
   ],
   "source": [
    "import numpy as np\n",
    "\n",
    "A = np.array([[7, 2], [3, 4], [5, 3]])\n",
    "U, D, V = np.linalg.svd(A)  # v here=v(Trans) in svd transpose actually\n",
    "U, D, V"
   ]
  },
  {
   "cell_type": "markdown",
   "metadata": {
    "id": "x10qZoJDmcwM"
   },
   "source": [
    "**Applications of Singular Value Decomposition (SVD)**</b>\n",
    "\n",
    "Image Compression</b>\n",
    "\n"
   ]
  },
  {
   "cell_type": "code",
   "execution_count": 22,
   "metadata": {
    "id": "Jb-9BstBmkCE"
   },
   "outputs": [],
   "source": [
    "import numpy as np\n",
    "import matplotlib.pyplot as plt\n",
    "\n",
    "# This line is required to display visualizations in the browser\n",
    "%matplotlib inline"
   ]
  },
  {
   "cell_type": "code",
   "execution_count": 23,
   "metadata": {
    "id": "48aF2B3XmmZR"
   },
   "outputs": [],
   "source": [
    "from skimage import data\n",
    "from skimage.color import rgb2gray\n",
    "from ipywidgets import interact, interactive, interact_manual"
   ]
  },
  {
   "cell_type": "code",
   "execution_count": 24,
   "metadata": {
    "id": "pgAjav4imnGE"
   },
   "outputs": [],
   "source": [
    "from skimage import img_as_ubyte, img_as_float\n",
    "\n",
    "gray_images = {\n",
    "    \"cat\": rgb2gray(img_as_float(data.chelsea())),\n",
    "    \"astro\": rgb2gray(img_as_float(data.astronaut())),\n",
    "    \"camera\": data.camera(),\n",
    "    \"coin\": data.coins(),\n",
    "    \"clock\": data.clock(),\n",
    "    \"blobs\": data.binary_blobs(),\n",
    "    \"coffee\": rgb2gray(img_as_float(data.coffee())),\n",
    "}"
   ]
  },
  {
   "cell_type": "code",
   "execution_count": 25,
   "metadata": {
    "id": "_iUck4mWmnI6"
   },
   "outputs": [],
   "source": [
    "from numpy.linalg import svd"
   ]
  },
  {
   "cell_type": "code",
   "execution_count": 26,
   "metadata": {
    "id": "ZdvAL42xmxcV"
   },
   "outputs": [],
   "source": [
    "def compress_svd(image, k):\n",
    "    \"\"\"\n",
    "    Perform svd decomposition and truncated (using k singular values/vectors) reconstruction\n",
    "    returns\n",
    "    --------\n",
    "      reconstructed matrix reconst_matrix, array of singular values s\n",
    "    \"\"\"\n",
    "    U, s, V = svd(image, full_matrices=False)\n",
    "    reconst_matrix = np.dot(U[:, :k], np.dot(np.diag(s[:k]), V[:k, :]))\n",
    "\n",
    "    return reconst_matrix, s"
   ]
  },
  {
   "cell_type": "code",
   "execution_count": 27,
   "metadata": {
    "id": "-uUn5EgjmyBu"
   },
   "outputs": [],
   "source": [
    "def compress_show_gray_images(img_name, k):\n",
    "    \"\"\"\n",
    "    compresses gray scale images and display the reconstructed image.\n",
    "    Also displays a plot of singular values\n",
    "    \"\"\"\n",
    "    image = gray_images[img_name]\n",
    "    original_shape = image.shape\n",
    "    reconst_img, s = compress_svd(image, k)\n",
    "    fig, axes = plt.subplots(1, 2, figsize=(8, 5))\n",
    "    axes[0].plot(s)\n",
    "    compression_ratio = (\n",
    "        100.0\n",
    "        * (k * (original_shape[0] + original_shape[1]) + k)\n",
    "        / (original_shape[0] * original_shape[1])\n",
    "    )\n",
    "    axes[1].set_title(\"compression ratio={:.2f}\".format(compression_ratio) + \"%\")\n",
    "    axes[1].imshow(reconst_img, cmap=\"gray\")\n",
    "    axes[1].axis(\"off\")\n",
    "    fig.tight_layout()"
   ]
  },
  {
   "cell_type": "code",
   "execution_count": 28,
   "metadata": {
    "id": "3Bwn4wnkm6Yg"
   },
   "outputs": [],
   "source": [
    "import numpy as np\n",
    "\n",
    "\n",
    "def compute_k_max(img_name):\n",
    "    \"\"\"\n",
    "    utility function for calculating max value of the slider range\n",
    "    \"\"\"\n",
    "    img = gray_images[img_name]\n",
    "    m, n = img.shape\n",
    "    return m * n / (m + n + 1)\n",
    "\n",
    "\n",
    "# set up the widgets\n",
    "import ipywidgets as widgets\n",
    "\n",
    "list_widget = widgets.Dropdown(options=list(gray_images.keys()))\n",
    "int_slider_widget = widgets.IntSlider(min=1, max=compute_k_max(\"cat\"))\n",
    "\n",
    "\n",
    "def update_k_max(*args):\n",
    "    img_name = list_widget.value\n",
    "    int_slider_widget.max = compute_k_max(img_name)\n",
    "\n",
    "\n",
    "list_widget.observe(update_k_max, \"value\")"
   ]
  },
  {
   "cell_type": "code",
   "execution_count": 29,
   "metadata": {
    "colab": {
     "base_uri": "https://localhost:8080/",
     "height": 433,
     "referenced_widgets": [
      "88f02704c5bf4d118cad9cd17b47fb18",
      "e19e03c449b54b6089f58dd9eb0ac128",
      "596ec67b427249c991bd83e6bf6baa90",
      "3a5e51cf92004c88995a3fcc74dbfa7a",
      "a906512dc3d24b38b8c847c68a068e8c",
      "00247fbc8df14d6aa07f332468606d2a",
      "9b59cc0a07c34fb0865ca56771858180",
      "1434fd984aab49eb90011b38c8493e9c",
      "1770deb0ce6c4b678313157e4f8b5372",
      "47f099700fac4767bfc61bb7f697b929"
     ]
    },
    "id": "1QCUG312m6ab",
    "outputId": "05fbf6a1-989a-4766-a82f-18e15d84d43c"
   },
   "outputs": [
    {
     "data": {
      "application/vnd.jupyter.widget-view+json": {
       "model_id": "01608fb2956b44da94df5c3c33361d5f",
       "version_major": 2,
       "version_minor": 0
      },
      "text/plain": [
       "interactive(children=(Dropdown(description='img_name', options=('cat', 'astro', 'camera', 'coin', 'clock', 'bl…"
      ]
     },
     "metadata": {},
     "output_type": "display_data"
    }
   ],
   "source": [
    "interact(compress_show_gray_images, img_name=list_widget, k=int_slider_widget);"
   ]
  },
  {
   "cell_type": "markdown",
   "metadata": {
    "id": "hP712kYwnIR4"
   },
   "source": [
    "Reference :https://colab.research.google.com/drive/1HLJcLzWG46NlPMCgD_KdVLCl-k68mVp2#scrollTo=d35EdHEQpv-b"
   ]
  },
  {
   "cell_type": "markdown",
   "metadata": {
    "id": "v2ojvdH7nUZj"
   },
   "source": [
    "<h3><b>Image Recovery</b></h3>\n",
    "\n"
   ]
  },
  {
   "cell_type": "markdown",
   "metadata": {
    "id": "8btdcPzfngHa"
   },
   "source": [
    "The process of filling in the missing items in a partly seen matrix is known as matrix completion. A well-known example of this is the Netflix dilemma.If customer I has viewed movie j and is otherwise unavailable, we'd want to anticipate the remaining entries in order to offer appropriate suggestions to consumers on what to watch next, given a ratings matrix in which each entry (i,j) indicates the rating of movie j by customer i.\n",
    "\n",
    "The fact that most users have a pattern in the movies they view and the ratings they give to these movies is a key factor in resolving this issue. As a result, the ratings matrix contains very little unique data. This implies that a low-rank matrix would be able to approximate the matrix well enough.\n",
    "\n",
    " \n",
    "\n",
    "\n"
   ]
  },
  {
   "cell_type": "markdown",
   "metadata": {},
   "source": [
    "![Ship Image](../assets/2022_3_14_svd/ship.jpg)\n",
    "\n"
   ]
  },
  {
   "cell_type": "markdown",
   "metadata": {},
   "source": [
    "Reference :https://www.analyticsvidhya.com/blog/2019/08/5-applications-singular-value-decomposition-svd-data-science/"
   ]
  },
  {
   "cell_type": "markdown",
   "metadata": {
    "id": "AVnMvdYrn_1y"
   },
   "source": [
    "<h3><b>Eigen faces</b></h3>\n",
    "\n"
   ]
  },
  {
   "cell_type": "markdown",
   "metadata": {
    "id": "EkFqOkAqnkka"
   },
   "source": [
    "The encoding is accomplished by expressing each face in the new face space as a linear combination of the specified eigenfaces.\n"
   ]
  },
  {
   "cell_type": "markdown",
   "metadata": {},
   "source": [
    "![](../assets/2022_3_14_svd/face.png)"
   ]
  },
  {
   "cell_type": "markdown",
   "metadata": {
    "id": "GQW3wKGFnw1J"
   },
   "source": [
    "\n",
    "<h3><b> Spectral Clustering</b></h3>\n",
    "\n"
   ]
  },
  {
   "cell_type": "code",
   "execution_count": 30,
   "metadata": {
    "colab": {
     "base_uri": "https://localhost:8080/",
     "height": 513
    },
    "id": "63LOxTd-n6gN",
    "outputId": "44c6583f-814f-412a-c280-534f03bfa905"
   },
   "outputs": [
    {
     "data": {
      "image/png": "[encoded data removed]",
      "text/plain": [
       "<Figure size 432x288 with 1 Axes>"
      ]
     },
     "metadata": {
      "needs_background": "light"
     },
     "output_type": "display_data"
    },
    {
     "name": "stderr",
     "output_type": "stream",
     "text": [
      "D:\\anaconda\\lib\\site-packages\\sklearn\\manifold\\_spectral_embedding.py:245: UserWarning: Graph is not fully connected, spectral embedding may not work as expected.\n",
      "  warnings.warn(\"Graph is not fully connected, spectral embedding\"\n"
     ]
    },
    {
     "data": {
      "image/png": "[encoded data removed]",
      "text/plain": [
       "<Figure size 432x288 with 1 Axes>"
      ]
     },
     "metadata": {
      "needs_background": "light"
     },
     "output_type": "display_data"
    }
   ],
   "source": [
    "from sklearn.datasets import make_circles\n",
    "from sklearn.neighbors import kneighbors_graph\n",
    "from sklearn.cluster import SpectralClustering\n",
    "import numpy as np\n",
    "import matplotlib.pyplot as plt\n",
    "\n",
    "# generate your data\n",
    "X, labels = make_circles(n_samples=500, noise=0.1, factor=0.2)\n",
    "\n",
    "# plot your data\n",
    "plt.scatter(X[:, 0], X[:, 1])\n",
    "plt.show()\n",
    "\n",
    "# train and predict\n",
    "s_cluster = SpectralClustering(\n",
    "    n_clusters=2, eigen_solver=\"arpack\", affinity=\"nearest_neighbors\"\n",
    ").fit_predict(X)\n",
    "\n",
    "# plot clustered data\n",
    "plt.scatter(X[:, 0], X[:, 1], c=s_cluster)\n",
    "plt.show()\n",
    "# source :Gitgub - rawspectral_clustering.py"
   ]
  },
  {
   "cell_type": "markdown",
   "metadata": {},
   "source": [
    "<footer> <i><b>Authors: Binita, GV Sai, Sai Narasimha</b></i></footer>"
   ]
  },
  {
   "cell_type": "markdown",
   "metadata": {},
   "source": []
  }
 ],
 "metadata": {
  "interpreter": {
   "hash": "cc5f70855ac006f3de45a3cc3b9e7d8d53845e50458809cb162b0174266dec97"
  },
  "kernelspec": {
   "display_name": "Python 3.9.7 ('base')",
   "language": "python",
   "name": "python3"
  },
  "language_info": {
   "codemirror_mode": {
    "name": "ipython",
    "version": 3
   },
   "file_extension": ".py",
   "mimetype": "text/x-python",
   "name": "python",
   "nbconvert_exporter": "python",
   "pygments_lexer": "ipython3",
   "version": "3.9.7"
  },
  "orig_nbformat": 4
 },
 "nbformat": 4,
 "nbformat_minor": 2
}
