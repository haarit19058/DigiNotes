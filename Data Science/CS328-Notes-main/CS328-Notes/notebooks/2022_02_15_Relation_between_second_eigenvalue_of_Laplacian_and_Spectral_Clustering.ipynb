{
 "cells": [
  {
   "cell_type": "markdown",
   "metadata": {},
   "source": [
    "# Relation between second eigenvalue of Laplacian and Spectral Clustering\n",
    "---"
   ]
  },
  {
   "cell_type": "markdown",
   "metadata": {},
   "source": [
    "$ \\rightarrow $ If $ \\phi^* $ is conductance of $ G, $ we can use $ v_2(L) $ to find a cut of conductance\n",
    "<br><center>$ O(\\sqrt{\\phi^*} logn) $</center>\n",
    "\n",
    "$ \\rightarrow $ For any vector $ v, $\n",
    "<br><center>$ v^TLv = \\sum_{ij \\in E} (v_i - v_j)^2 $</center>\n",
    "<br><center>$ L = D - A $</center>\n",
    "<br><center>$ v^TLv = v^TDv - v^TAv = \\sum_{i=1}^n d_iv_i^2 - \\sum_{i}v_i \\sum_{j}A_{ij}v_j $ </center>\n",
    "\n",
    "<br><center>$ LHS = \\sum{div_i^2} - \\sum_{ij}{v_i v_j A_{ij}} = \\sum{d_iv_i^2} - 2\\sum_{ij \\in E}{v_iv_j} $</center>\n",
    "<br><center>$ RHS = \\sum_{ij \\in E}{(v_i - v_j)^2} = \\sum{d_iv_i^2} - 2\\sum_{ij \\in E}{v_iv_j} $</center>\n",
    "\n",
    "$ \\rightarrow $ We saw that $ v_1 = \\bar{1} \\frac{1}{\\sqrt{n}} $\n",
    "<br><center>$ \\lambda_2 = \\min_{v \\perp \\bar{1}, v \\neq 0} \\frac{v^TLv}{d(v^Tv)} = \\min_{v \\perp \\bar{1}, v \\neq 0} \\frac{\\sum_{ij \\in E}{(v_i - v_j)^2}}{d \\sum_{i}{v_i^2}} \\hspace{20mm}(1) $</center>\n",
    "\n",
    "where <br><center>$ \\bar{1} =\\begin{bmatrix} 1 \\\\ 1 \\\\ 1 \\\\ . \\\\ . \\\\ 1 \\end{bmatrix} $</center>\n",
    "\n",
    "$ \\underline{Claim:} $ We can also write\n",
    "<br><center>$ \\lambda_2 = \\min_{u, u \\neq 0} \\frac{\\sum_{ij \\in E}{(u_i - u_j)^2}}{\\frac{d}{n} \\sum_{\\{ ij \\}}{(u_i - u_j) ^ 2}} \\hspace{20mm}(2) $</center>"
   ]
  },
  {
   "cell_type": "markdown",
   "metadata": {},
   "source": [
    "Consider a set $ S \\subseteq V $\n",
    "<br><center>$ S_{i} =\n",
    "    \\begin{cases}\n",
    "        +1, i \\in S\\\\\n",
    "        0, i \\notin S\n",
    "    \\end{cases}\n",
    "$ </center>\n",
    "\n",
    "<br><center>$ \\sum_{ij \\in E}{(S_i - S_j)^2} = e(S, \\bar{S}) $</center>\n",
    "\n",
    "<br><center>$ Denominator = \\frac{d}{n} |S||\\bar{S}| $</center>\n",
    "<br><center>$ R(S) = \\phi(S) $</center>\n",
    "\n",
    "where <br><center>$ R(S) = \\frac{\\sum_{ij \\in E}{(v_i - v_j)^2}}{\\frac{d}{n} \\sum_{\\{ ij \\}}{(v_i - v_j) ^ 2}} $</center>"
   ]
  },
  {
   "cell_type": "markdown",
   "metadata": {},
   "source": [
    "$ \\rightarrow $ If $ u \\perp \\bar{1}, $ then denominator of $ (2) $\n",
    "<br><center>$ = \\frac{d}{n} \\sum_{\\{ i,j \\}}{(u_i - u_j)^2} = \\frac{d}{2n} \\sum_{ij}{(u_i - u_j)^2} $</center>\n",
    "<br><center>$ = \\frac{d}{2n} (n \\sum_{i}{u_i^2} + n \\sum_{j}{u_j^2} - 2 \\sum_{ij}{u_iu_j}) $</center>\n",
    "<br><center>$ = \\frac{d}{2} \\times 2 \\sum{u_i^2} - \\frac{d}{2n} \\times 2(\\sum{u_i})^2 $</center>\n",
    "<br><center>$ = d \\sum{u_i^2} = \\text{Denominator of } (1) $</center>"
   ]
  },
  {
   "cell_type": "markdown",
   "metadata": {},
   "source": [
    "$ \\rightarrow $ Rayleight quotient for $ S $\n",
    "<br><center>$ R(S) = \\frac{e(S, \\bar{S})}{|S| |\\bar{S}| \\frac{d}{n}} = \\sigma(S) = \\sigma(G) \\text{ if S = optional set for } \\sigma(S) $</center>\n",
    "<br><center>$ \\lambda_2 \\leq \\sigma(G) \\leq 2\\phi(G) $</center>\n",
    "\n",
    "Hence $ \\lambda_2 $ is really a \"relaxed\"/soft version of $ \\sigma(G) / \\phi(G) $"
   ]
  },
  {
   "cell_type": "markdown",
   "metadata": {},
   "source": [
    "### Cheeger's Inequality"
   ]
  },
  {
   "cell_type": "markdown",
   "metadata": {},
   "source": [
    "<br><center>$ \\lambda_2 \\leq 2\\phi(G) $</center>\n",
    "<br><center>$ \\lambda_2 \\geq \\frac{\\phi(G)^2}{2} $</center>\n",
    "\n",
    "$ \\hspace{3mm} $ Implies that using $ v_2, $ we can find a cut where expansion is\n",
    "<br><center>$ O(\\sqrt{\\lambda_2} logn) = O(\\sqrt{\\phi(G)} logn) $</center>"
   ]
  },
  {
   "cell_type": "markdown",
   "metadata": {},
   "source": [
    "### Spectral Clustering"
   ]
  },
  {
   "cell_type": "markdown",
   "metadata": {},
   "source": [
    "$ \\rightarrow $ For regular graphs\n",
    "<br>$ \\hspace{5mm} - $ Find $ L = dI - A $ or $ I - \\frac{1}{d}A $\n",
    "<br>$ \\hspace{5mm} - $ Find $ v_2(L) $\n",
    "<br>$ \\hspace{5mm} - $ Sort all vertices by their coordinates of $ v_2 $\n",
    "<br>$ \\hspace{5mm} - $ Find best prefix i.e. $ S_i = \\{ 1, ..., i \\} $ as per new numbering\n",
    "\n",
    "```{figure} ../assets/2022_02_14_GraphLaplacian/example3.jpeg\n",
    "   :name: fig-1\n",
    "\n",
    "   Spectral Clustering\n",
    "   ```\n",
    "\n",
    "$ \\\\ \\hspace{5mm} $ n cuts $ \\rightarrow $ report one with smallest conductance"
   ]
  },
  {
   "cell_type": "markdown",
   "metadata": {},
   "source": [
    "$ \\rightarrow $ For non-regular graphs,\n",
    "<br>$ \\hspace{5mm} - L = I - D^{-1/2}AD^{-1/2} $\n",
    "<br>$ \\hspace{5mm} - $ Calculate $ v_2(L) $ and still find best prefix cut\n",
    "<br>$ \\hspace{5mm} - $ If $ \\phi^* $ is optimal conductance cut, we are guaranteed a cut of conductance no more that $ O(\\sqrt{\\phi^*} logn) $\n",
    "\n",
    "```{figure} ../assets/2022_02_14_GraphLaplacian/example4.jpeg\n",
    "   :name: fig-2\n",
    "\n",
    "   Sorting of vertices in Spectral Clustering\n",
    "   ```"
   ]
  },
  {
   "cell_type": "markdown",
   "metadata": {},
   "source": [
    "<footer>\n",
    "    Author(s): Avnish Ranwa, Divyanshu Tripathy, Prachika Kanodia\n",
    "</footer>"
   ]
  }
 ],
 "metadata": {
  "language_info": {
   "name": "python"
  },
  "orig_nbformat": 4
 },
 "nbformat": 4,
 "nbformat_minor": 2
}
